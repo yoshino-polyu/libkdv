{
 "cells": [
  {
   "cell_type": "code",
   "execution_count": 2,
   "metadata": {},
   "outputs": [],
   "source": [
    "import libkdv\n",
    "import pandas as pd\n",
    "import numpy as np\n",
    "from keplergl import KeplerGl"
   ]
  },
  {
   "cell_type": "code",
   "execution_count": null,
   "metadata": {},
   "outputs": [
    {
     "ename": "NameError",
     "evalue": "name 'pd' is not defined",
     "output_type": "error",
     "traceback": [
      "\u001b[0;31m---------------------------------------------------------------------------\u001b[0m",
      "\u001b[0;31mNameError\u001b[0m                                 Traceback (most recent call last)",
      "Cell \u001b[0;32mIn[1], line 4\u001b[0m\n\u001b[1;32m      1\u001b[0m \u001b[38;5;66;03m# Data Processing\u001b[39;00m\n\u001b[1;32m      2\u001b[0m \n\u001b[1;32m      3\u001b[0m \u001b[38;5;66;03m# Download Dataset here: https://data.cityofnewyork.us/Public-Safety/Motor-Vehicle-Collisions-Crashes/h9gi-nx95\u001b[39;00m\n\u001b[0;32m----> 4\u001b[0m NewYork \u001b[38;5;241m=\u001b[39m \u001b[43mpd\u001b[49m\u001b[38;5;241m.\u001b[39mread_csv(\u001b[38;5;124m'\u001b[39m\u001b[38;5;124m./New_York_Crashes_raw.csv\u001b[39m\u001b[38;5;124m'\u001b[39m)\n\u001b[1;32m      5\u001b[0m center_NewYork \u001b[38;5;241m=\u001b[39m [\u001b[38;5;241m40.730610\u001b[39m,\u001b[38;5;241m-\u001b[39m\u001b[38;5;241m73.935242\u001b[39m]\n\u001b[1;32m      6\u001b[0m attr_name_NewYork \u001b[38;5;241m=\u001b[39m [\u001b[38;5;124m'\u001b[39m\u001b[38;5;124mLATITUDE\u001b[39m\u001b[38;5;124m'\u001b[39m,\u001b[38;5;124m'\u001b[39m\u001b[38;5;124mLONGITUDE\u001b[39m\u001b[38;5;124m'\u001b[39m,\u001b[38;5;124m'\u001b[39m\u001b[38;5;124mCRASH DATE\u001b[39m\u001b[38;5;124m'\u001b[39m]\n",
      "\u001b[0;31mNameError\u001b[0m: name 'pd' is not defined"
     ]
    }
   ],
   "source": [
    "# Data Processing\n",
    "\n",
    "# Download Dataset here: https://data.cityofnewyork.us/Public-Safety/Motor-Vehicle-Collisions-Crashes/h9gi-nx95\n",
    "# NewYork = pd.read_csv('./New_York_Crashes_raw.csv')\n",
    "# center_NewYork = [40.730610,-73.935242]\n",
    "# attr_name_NewYork = ['LATITUDE','LONGITUDE','CRASH DATE']\n",
    "\n",
    "# df = libkdv.utils.gps_data_processing(NewYork,center_NewYork,attr_name_NewYork,tolerance = 0.3)\n",
    "# df.to_csv('../datasets/NewYork.csv',index=False)"
   ]
  },
  {
   "cell_type": "code",
   "execution_count": 3,
   "metadata": {},
   "outputs": [
    {
     "name": "stdout",
     "output_type": "stream",
     "text": [
      "drop column t\n"
     ]
    }
   ],
   "source": [
    "df = pd.read_csv('../datasets/NewYork.csv')\n",
    "if 't' in df.columns:\n",
    "    df = df.drop(columns=['t'])\n",
    "    print(\"drop column t\")\n",
    "kdv_NewYork = libkdv.kdv(df, KDV_type='KDV',\n",
    "                 bandwidth=1000, row_pixels=800, col_pixels=600)"
   ]
  },
  {
   "cell_type": "code",
   "execution_count": 4,
   "metadata": {},
   "outputs": [
    {
     "data": {
      "text/html": [
       "<div>\n",
       "<style scoped>\n",
       "    .dataframe tbody tr th:only-of-type {\n",
       "        vertical-align: middle;\n",
       "    }\n",
       "\n",
       "    .dataframe tbody tr th {\n",
       "        vertical-align: top;\n",
       "    }\n",
       "\n",
       "    .dataframe thead th {\n",
       "        text-align: right;\n",
       "    }\n",
       "</style>\n",
       "<table border=\"1\" class=\"dataframe\">\n",
       "  <thead>\n",
       "    <tr style=\"text-align: right;\">\n",
       "      <th></th>\n",
       "      <th>lon</th>\n",
       "      <th>lat</th>\n",
       "      <th>val</th>\n",
       "    </tr>\n",
       "  </thead>\n",
       "  <tbody>\n",
       "    <tr>\n",
       "      <th>0</th>\n",
       "      <td>-74.235190</td>\n",
       "      <td>40.501762</td>\n",
       "      <td>0.003008</td>\n",
       "    </tr>\n",
       "    <tr>\n",
       "      <th>1</th>\n",
       "      <td>-74.235190</td>\n",
       "      <td>40.502449</td>\n",
       "      <td>0.003306</td>\n",
       "    </tr>\n",
       "    <tr>\n",
       "      <th>2</th>\n",
       "      <td>-74.235190</td>\n",
       "      <td>40.503135</td>\n",
       "      <td>0.003643</td>\n",
       "    </tr>\n",
       "    <tr>\n",
       "      <th>3</th>\n",
       "      <td>-74.235190</td>\n",
       "      <td>40.503821</td>\n",
       "      <td>0.004061</td>\n",
       "    </tr>\n",
       "    <tr>\n",
       "      <th>4</th>\n",
       "      <td>-74.235190</td>\n",
       "      <td>40.504508</td>\n",
       "      <td>0.004487</td>\n",
       "    </tr>\n",
       "    <tr>\n",
       "      <th>...</th>\n",
       "      <td>...</td>\n",
       "      <td>...</td>\n",
       "      <td>...</td>\n",
       "    </tr>\n",
       "    <tr>\n",
       "      <th>272354</th>\n",
       "      <td>-73.663726</td>\n",
       "      <td>40.737866</td>\n",
       "      <td>0.000011</td>\n",
       "    </tr>\n",
       "    <tr>\n",
       "      <th>272355</th>\n",
       "      <td>-73.663726</td>\n",
       "      <td>40.738552</td>\n",
       "      <td>0.000012</td>\n",
       "    </tr>\n",
       "    <tr>\n",
       "      <th>272356</th>\n",
       "      <td>-73.663726</td>\n",
       "      <td>40.739238</td>\n",
       "      <td>0.000013</td>\n",
       "    </tr>\n",
       "    <tr>\n",
       "      <th>272357</th>\n",
       "      <td>-73.663726</td>\n",
       "      <td>40.739925</td>\n",
       "      <td>0.000012</td>\n",
       "    </tr>\n",
       "    <tr>\n",
       "      <th>272358</th>\n",
       "      <td>-73.663726</td>\n",
       "      <td>40.740611</td>\n",
       "      <td>0.000011</td>\n",
       "    </tr>\n",
       "  </tbody>\n",
       "</table>\n",
       "<p>272359 rows × 3 columns</p>\n",
       "</div>"
      ],
      "text/plain": [
       "              lon        lat       val\n",
       "0      -74.235190  40.501762  0.003008\n",
       "1      -74.235190  40.502449  0.003306\n",
       "2      -74.235190  40.503135  0.003643\n",
       "3      -74.235190  40.503821  0.004061\n",
       "4      -74.235190  40.504508  0.004487\n",
       "...           ...        ...       ...\n",
       "272354 -73.663726  40.737866  0.000011\n",
       "272355 -73.663726  40.738552  0.000012\n",
       "272356 -73.663726  40.739238  0.000013\n",
       "272357 -73.663726  40.739925  0.000012\n",
       "272358 -73.663726  40.740611  0.000011\n",
       "\n",
       "[272359 rows x 3 columns]"
      ]
     },
     "execution_count": 4,
     "metadata": {},
     "output_type": "execute_result"
    }
   ],
   "source": [
    "kdv_NewYork.compute() # exam how compute function is performed. \n",
    "# val = kde value"
   ]
  },
  {
   "cell_type": "code",
   "execution_count": 5,
   "metadata": {},
   "outputs": [
    {
     "name": "stdout",
     "output_type": "stream",
     "text": [
      "              lon        lat       val\n",
      "0      -74.235190  40.501762  0.003008\n",
      "1      -74.235190  40.502449  0.003306\n",
      "2      -74.235190  40.503135  0.003643\n",
      "3      -74.235190  40.503821  0.004061\n",
      "4      -74.235190  40.504508  0.004487\n",
      "...           ...        ...       ...\n",
      "272354 -73.663726  40.737866  0.000011\n",
      "272355 -73.663726  40.738552  0.000012\n",
      "272356 -73.663726  40.739238  0.000013\n",
      "272357 -73.663726  40.739925  0.000012\n",
      "272358 -73.663726  40.740611  0.000011\n",
      "\n",
      "[272359 rows x 3 columns]\n"
     ]
    }
   ],
   "source": [
    "print(kdv_NewYork.result)"
   ]
  },
  {
   "cell_type": "code",
   "execution_count": 7,
   "metadata": {},
   "outputs": [
    {
     "name": "stdout",
     "output_type": "stream",
     "text": [
      "<class 'pandas.core.frame.DataFrame'>\n"
     ]
    }
   ],
   "source": [
    "print(type(kdv_NewYork.result))"
   ]
  },
  {
   "cell_type": "code",
   "execution_count": 6,
   "metadata": {},
   "outputs": [
    {
     "name": "stdout",
     "output_type": "stream",
     "text": [
      "User Guide: https://docs.kepler.gl/docs/keplergl-jupyter\n",
      "Map saved to ./map_kdv.html!\n"
     ]
    }
   ],
   "source": [
    "map_kdv = KeplerGl(height=600, data={\"data_1\": kdv_NewYork.result})\n",
    "map_kdv.save_to_html(file_name='./map_kdv.html')"
   ]
  }
 ],
 "metadata": {
  "kernelspec": {
   "display_name": "libkdv",
   "language": "python",
   "name": "python3"
  },
  "language_info": {
   "codemirror_mode": {
    "name": "ipython",
    "version": 3
   },
   "file_extension": ".py",
   "mimetype": "text/x-python",
   "name": "python",
   "nbconvert_exporter": "python",
   "pygments_lexer": "ipython3",
   "version": "3.9.21"
  }
 },
 "nbformat": 4,
 "nbformat_minor": 2
}
